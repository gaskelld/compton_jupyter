{
 "cells": [
  {
   "cell_type": "markdown",
   "metadata": {},
   "source": [
    "Estimate and plot effects of position"
   ]
  },
  {
   "cell_type": "code",
   "execution_count": 1,
   "metadata": {},
   "outputs": [],
   "source": [
    "import numpy as np\n",
    "import scipy.integrate as integrate\n",
    "import matplotlib.pyplot as plt"
   ]
  },
  {
   "cell_type": "code",
   "execution_count": 2,
   "metadata": {},
   "outputs": [],
   "source": [
    "# Constants\n",
    "Me=0.51099006\n",
    "re=2.818E-13\n",
    "hbarc=1.9732858E-11\n",
    "e=1.6022E-19\n",
    "c=2.9979E10\n",
    "pi=3.141592653589793\n",
    "\n",
    "# Beam parameters\n",
    "Ebeam=5000\n",
    "#Ebeam=11000\n",
    "Ibeam=1\n",
    "sigmabeam=300E-4\n",
    "\n",
    "# Laser parameters\n",
    "laser_lambda=532E-7\n",
    "sigmalaser=100E-4\n",
    "alphac=10E-3\n",
    "alpha=alphac/2.0\n",
    "plaser = 5"
   ]
  },
  {
   "cell_type": "code",
   "execution_count": 3,
   "metadata": {},
   "outputs": [
    {
     "name": "stdout",
     "output_type": "stream",
     "text": [
      "Simple luminosity:  7.033923214036582e+30\n",
      "4001748.5932122236\n"
     ]
    }
   ],
   "source": [
    "Elaser = hbarc*2*pi/laser_lambda\n",
    "gam = Ebeam/Me\n",
    "a = 1.0/(1 + 4*gam*Elaser/Me)\n",
    "Egmax = 4*gam**2*a*Elaser\n",
    "rhomin=Elaser/Egmax\n",
    "\n",
    "def compton_xsec(rho):\n",
    " first = rho**2*(1.0-a)**2/(1.0-rho*(1.-a))\n",
    " second = (1-rho*(1+a))/(1-rho*(1-a))\n",
    " dsig = 2.*pi*re**2*a*(first+1.0+second**2)\n",
    " return dsig\n",
    "# Start calculating luminosity and cross section\n",
    "Ne = Ibeam/e/c\n",
    "Nphot = plaser/(e*1E6*Elaser*c)\n",
    "Lumisimple = c*(1.0 + np.cos(alphac))*Ne*Nphot/(np.sin(alphac)*np.sqrt(2*pi)*np.sqrt(sigmabeam**2 + sigmalaser**2))\n",
    "print('Simple luminosity: ', Lumisimple)\n",
    "xsect = integrate.quad(lambda rho: compton_xsec(rho),rhomin,1.0)\n",
    "rate = xsect[0]*Lumisimple\n",
    "print(rate)"
   ]
  },
  {
   "cell_type": "code",
   "execution_count": 4,
   "metadata": {},
   "outputs": [],
   "source": [
    "def dlumi(x,y,z, sigmabeam,sigmalaser,yoff):\n",
    "    part1=c*(1.0+np.cos(alphac))\n",
    "    rhobeam = 1.0/(2*pi*sigmabeam**2)*np.exp(-(x*np.cos(alpha)+z*np.sin(alpha))**2/(2*sigmabeam**2))*np.exp(-(y+yoff)**2/(2*sigmabeam**2))\n",
    "    rholaser = 1.0/(2*pi*sigmalaser**2)*np.exp(-(x*np.cos(alpha)-z*np.sin(alpha))**2/(2*sigmalaser**2))*np.exp(-y**2/(2*sigmalaser**2))\n",
    "    rhogambeam=part1*rhobeam*rholaser\n",
    "    return rhogambeam"
   ]
  },
  {
   "cell_type": "code",
   "execution_count": 5,
   "metadata": {},
   "outputs": [
    {
     "name": "stderr",
     "output_type": "stream",
     "text": [
      "/opt/local/Library/Frameworks/Python.framework/Versions/3.8/lib/python3.8/site-packages/scipy/integrate/quadpack.py:879: IntegrationWarning: The integral is probably divergent, or slowly convergent.\n",
      "  quad_r = quad(f, low, high, args=args, full_output=self.full_output,\n"
     ]
    },
    {
     "name": "stdout",
     "output_type": "stream",
     "text": [
      "0.0 3894272.3084283196\n",
      "0.005 3845896.88088187\n",
      "0.01 3704346.4067953373\n",
      "0.015 3479911.403729701\n",
      "0.02 3188360.499770249\n"
     ]
    }
   ],
   "source": [
    "# Beam-laser offset: 0-200 um\n",
    "ybeamoff=np.array([0.0,50E-4,100E-4,150E-4, 200E-4])\n",
    "# size of helicity correlated position difference\n",
    "# dy=1 um --> huge!\n",
    "dypos=1E-4\n",
    "ratenom=np.empty(5); rateplus=np.empty(5); rateminus=np.empty(5); asy=np.empty(5)\n",
    "i=0\n",
    "for off in ybeamoff:\n",
    "    yoff=off\n",
    "    lumitmp = integrate.tplquad(lambda x, y, z: dlumi(x,y,z,sigmabeam,sigmalaser,yoff), -7.0, 7.0, lambda x: -3.0, lambda x: 3.0, lambda x,y: -3.0, lambda x,y: 3.0)\n",
    "    Luminosity = Ne*Nphot*lumitmp[0]\n",
    "    ratenom[i] = xsect[0]*Luminosity\n",
    "    print(yoff,ratenom[i])\n",
    "                                \n",
    "    yoff=off+dypos\n",
    "    lumitmp = integrate.tplquad(lambda x, y, z: dlumi(x,y,z,sigmabeam,sigmalaser,yoff), -7.0, 7.0, lambda x: -3.0, lambda x: 3.0, lambda x,y: -3.0, lambda x,y: 3.0)\n",
    "    Luminosity = Ne*(plaser*laser_lambda*2*pi/(hbarc*c))*lumitmp[0]\n",
    "    rateplus[i] = xsect[0]*Luminosity\n",
    "\n",
    "    yoff=off-dypos\n",
    "    lumitmp = integrate.tplquad(lambda x, y, z: dlumi(x,y,z,sigmabeam,sigmalaser,yoff), -7.0, 7.0, lambda x: -3.0, lambda x: 3.0, lambda x,y: -3.0, lambda x,y: 3.0)\n",
    "    Luminosity = Ne*(plaser*laser_lambda*2*pi/(hbarc*c))*lumitmp[0]\n",
    "    rateminus[i] = xsect[0]*Luminosity\n",
    "\n",
    "    asy[i]=(rateplus[i]-rateminus[i])/(rateplus[i]+rateminus[i])\n",
    "\n",
    "    i=i+1"
   ]
  },
  {
   "cell_type": "code",
   "execution_count": 6,
   "metadata": {},
   "outputs": [],
   "source": [
    "ybeamoff_um = ybeamoff*1E4 # convert to um\n",
    "asypct = 100*abs(asy) # convert to %\n",
    "ratekhz=ratenom/1000\n",
    "dpol = asypct/(100.*0.074)\n",
    "relrate=ratekhz/ratekhz[0]"
   ]
  },
  {
   "cell_type": "code",
   "execution_count": 7,
   "metadata": {},
   "outputs": [
    {
     "data": {
      "text/plain": [
       "Text(0, 0.5, 'Rate (kHz)')"
      ]
     },
     "execution_count": 7,
     "metadata": {},
     "output_type": "execute_result"
    },
    {
     "data": {
      "image/png": "[encoded data removed]",
      "text/plain": [
       "<Figure size 432x288 with 1 Axes>"
      ]
     },
     "metadata": {
      "needs_background": "light"
     },
     "output_type": "display_data"
    }
   ],
   "source": [
    "plt.plot(ybeamoff_um,ratekhz,'o-',color='r')\n",
    "plt.xlabel('Beam offset (um)')\n",
    "plt.ylabel('Rate (kHz)')"
   ]
  },
  {
   "cell_type": "code",
   "execution_count": 8,
   "metadata": {},
   "outputs": [
    {
     "data": {
      "text/plain": [
       "Text(0, 0.5, 'False asymmetry (%)')"
      ]
     },
     "execution_count": 8,
     "metadata": {},
     "output_type": "execute_result"
    },
    {
     "data": {
      "image/png": "[encoded data removed]",
      "text/plain": [
       "<Figure size 432x288 with 1 Axes>"
      ]
     },
     "metadata": {
      "needs_background": "light"
     },
     "output_type": "display_data"
    }
   ],
   "source": [
    "plt.plot(ybeamoff_um,asypct,'v--',color='b')\n",
    "plt.xlabel('Beam offset ($\\mu$m)')\n",
    "plt.ylabel('False asymmetry (%)')"
   ]
  },
  {
   "cell_type": "code",
   "execution_count": 9,
   "metadata": {},
   "outputs": [
    {
     "data": {
      "text/plain": [
       "Text(0, 0.5, '$A_{posdiff}/A_{Compton}$')"
      ]
     },
     "execution_count": 9,
     "metadata": {},
     "output_type": "execute_result"
    },
    {
     "data": {
      "image/png": "[encoded data removed]",
      "text/plain": [
       "<Figure size 432x288 with 1 Axes>"
      ]
     },
     "metadata": {
      "needs_background": "light"
     },
     "output_type": "display_data"
    }
   ],
   "source": [
    "plt.plot(ybeamoff_um,dpol,'s-.', color='black')\n",
    "plt.xlabel('Beam offset ($\\mu$m)')\n",
    "plt.ylabel('$A_{posdiff}/A_{Compton}$')"
   ]
  },
  {
   "cell_type": "code",
   "execution_count": null,
   "metadata": {},
   "outputs": [],
   "source": []
  }
 ],
 "metadata": {
  "kernelspec": {
   "display_name": "Python 3",
   "language": "python",
   "name": "python3"
  },
  "language_info": {
   "codemirror_mode": {
    "name": "ipython",
    "version": 3
   },
   "file_extension": ".py",
   "mimetype": "text/x-python",
   "name": "python",
   "nbconvert_exporter": "python",
   "pygments_lexer": "ipython3",
   "version": "3.8.11"
  }
 },
 "nbformat": 4,
 "nbformat_minor": 4
}
